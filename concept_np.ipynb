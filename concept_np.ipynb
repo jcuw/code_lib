{
 "cells": [
  {
   "cell_type": "code",
   "execution_count": 2,
   "metadata": {},
   "outputs": [],
   "source": [
    "import numpy as np"
   ]
  },
  {
   "cell_type": "markdown",
   "metadata": {},
   "source": [
    "## Concept #1: Override sub-array may affect parent array"
   ]
  },
  {
   "cell_type": "code",
   "execution_count": 10,
   "metadata": {},
   "outputs": [
    {
     "name": "stdout",
     "output_type": "stream",
     "text": [
      "[ 0  1  2  3  4  5  6  7  8  9 10]\n"
     ]
    }
   ],
   "source": [
    "arr = np.arange(0,11)\n",
    "print(arr)"
   ]
  },
  {
   "cell_type": "markdown",
   "metadata": {},
   "source": [
    "sub-array is only an image of the parent array. Assign variable to this image and override values WILL affect parent array"
   ]
  },
  {
   "cell_type": "code",
   "execution_count": 5,
   "metadata": {},
   "outputs": [
    {
     "name": "stdout",
     "output_type": "stream",
     "text": [
      "[100 100 100]\n",
      "[100 100 100]\n",
      "[100 100 100   3   4   5   6   7   8   9  10]\n"
     ]
    }
   ],
   "source": [
    "sub_arr = arr[0:3] #It's NOT creating a new variable but rather a VIEW of the parent arr\n",
    "print(sub_arr)\n",
    "\n",
    "sub_arr[:] = 100 # If we overide evrything in sub_array with 100\n",
    "print(sub_arr)\n",
    "\n",
    "print(arr) #Notice the override actually changed the parent array and not just the sub array\n"
   ]
  },
  {
   "cell_type": "markdown",
   "metadata": {},
   "source": [
    "To create a real subset not just a view, must use .copy()"
   ]
  },
  {
   "cell_type": "code",
   "execution_count": 12,
   "metadata": {},
   "outputs": [
    {
     "name": "stdout",
     "output_type": "stream",
     "text": [
      "[0 1 2]\n",
      "[100 100 100]\n",
      "[ 0  1  2  3  4  5  6  7  8  9 10]\n"
     ]
    }
   ],
   "source": [
    "\n",
    "sub_arr = arr[0:3].copy()\n",
    "print(sub_arr)\n",
    "\n",
    "sub_arr[:]=100\n",
    "print(sub_arr)\n",
    "\n",
    "print(arr)"
   ]
  },
  {
   "cell_type": "markdown",
   "metadata": {},
   "source": [
    "## Concept #2: Division by zero does not cause error"
   ]
  },
  {
   "cell_type": "code",
   "execution_count": 14,
   "metadata": {},
   "outputs": [
    {
     "name": "stdout",
     "output_type": "stream",
     "text": [
      "[ 0  1  2  3  4  5  6  7  8  9 10]\n",
      "[nan inf inf inf inf inf inf inf inf inf inf]\n"
     ]
    },
    {
     "name": "stderr",
     "output_type": "stream",
     "text": [
      "C:\\Users\\JOHNC~1\\AppData\\Local\\Temp/ipykernel_10112/2767405282.py:4: RuntimeWarning: divide by zero encountered in true_divide\n",
      "  print(arr /0) #You get a runtime warning. code will contiune to run\n",
      "C:\\Users\\JOHNC~1\\AppData\\Local\\Temp/ipykernel_10112/2767405282.py:4: RuntimeWarning: invalid value encountered in true_divide\n",
      "  print(arr /0) #You get a runtime warning. code will contiune to run\n"
     ]
    }
   ],
   "source": [
    "arr = np.arange(0,11)\n",
    "\n",
    "print(arr)\n",
    "print(arr /0) #You get a runtime warning. code will contiune to run\n",
    "\n",
    "#0/0 -> nan\n",
    "# 2/0 -> inf"
   ]
  }
 ],
 "metadata": {
  "interpreter": {
   "hash": "cbe30ea90fb82ef4a87620738c814b5fe19fe339f0c24a660f5a2aca87541ee3"
  },
  "kernelspec": {
   "display_name": "Python 3.9.7 ('base')",
   "language": "python",
   "name": "python3"
  },
  "language_info": {
   "codemirror_mode": {
    "name": "ipython",
    "version": 3
   },
   "file_extension": ".py",
   "mimetype": "text/x-python",
   "name": "python",
   "nbconvert_exporter": "python",
   "pygments_lexer": "ipython3",
   "version": "3.9.7"
  },
  "orig_nbformat": 4
 },
 "nbformat": 4,
 "nbformat_minor": 2
}
