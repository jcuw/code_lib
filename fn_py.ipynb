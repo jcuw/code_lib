{
 "cells": [
  {
   "cell_type": "markdown",
   "id": "bd5f8c35",
   "metadata": {},
   "source": [
    "# Prime Generator"
   ]
  },
  {
   "cell_type": "code",
   "execution_count": 1,
   "id": "ad1fec1c",
   "metadata": {},
   "outputs": [],
   "source": [
    "def prime1(n):\n",
    "    lst=[]\n",
    "    if n>0:\n",
    "        for num in range(2, n+1):\n",
    "            for i in range(2, num):\n",
    "                if (num % i == 0):\n",
    "                    break\n",
    "            else :\n",
    "                lst.append(num)\n",
    "                \n",
    "        return lst"
   ]
  },
  {
   "cell_type": "code",
   "execution_count": 2,
   "id": "d69f54a3",
   "metadata": {},
   "outputs": [
    {
     "data": {
      "text/plain": [
       "[2, 3, 5, 7, 11, 13, 17, 19]"
      ]
     },
     "execution_count": 2,
     "metadata": {},
     "output_type": "execute_result"
    }
   ],
   "source": [
    "prime1(20)"
   ]
  },
  {
   "cell_type": "code",
   "execution_count": 3,
   "id": "69a681af",
   "metadata": {},
   "outputs": [],
   "source": [
    "#Alternative version 1\n",
    "def prime2(n):\n",
    "    lst=[]\n",
    "    if n>0:\n",
    "        for num in range(2,n+1):\n",
    "            if all(num%i !=0 for i in range(2,num)):\n",
    "                lst.append(num)\n",
    "    return lst"
   ]
  },
  {
   "cell_type": "code",
   "execution_count": 4,
   "id": "b6713be3",
   "metadata": {},
   "outputs": [
    {
     "data": {
      "text/plain": [
       "[2, 3, 5, 7, 11, 13, 17, 19]"
      ]
     },
     "execution_count": 4,
     "metadata": {},
     "output_type": "execute_result"
    }
   ],
   "source": [
    "prime2(20)"
   ]
  },
  {
   "cell_type": "code",
   "execution_count": 5,
   "id": "be1acd49",
   "metadata": {},
   "outputs": [],
   "source": [
    "#Alternative version 2 [improve runtime from O(n^2) to O(log N)?]\n",
    "def prime3(n):\n",
    "    lst=[]\n",
    "    if n>0:\n",
    "        for num in range(2,n+1):\n",
    "            if all(num%i !=0 for i in range(2,int( (num**0.5) +1))):\n",
    "                lst.append(num)\n",
    "    return lst"
   ]
  },
  {
   "cell_type": "code",
   "execution_count": 6,
   "id": "6c11d3b3",
   "metadata": {},
   "outputs": [
    {
     "data": {
      "text/plain": [
       "[2, 3, 5, 7, 11, 13, 17, 19]"
      ]
     },
     "execution_count": 6,
     "metadata": {},
     "output_type": "execute_result"
    }
   ],
   "source": [
    "prime3(20)"
   ]
  },
  {
   "cell_type": "code",
   "execution_count": 7,
   "id": "d34fb774",
   "metadata": {},
   "outputs": [],
   "source": [
    "#Alternative version 3: fastest - found online\n",
    "def prime4(n):\n",
    "    lst=[]\n",
    "    sieve = [True] * (n+1)\n",
    "    for i in range(2, n+1):\n",
    "        if (sieve[i]):\n",
    "            lst.append(i)\n",
    "            for i in range(i, n+1, i):\n",
    "                sieve[i] = False\n",
    "    return lst"
   ]
  },
  {
   "cell_type": "code",
   "execution_count": 8,
   "id": "db27519b",
   "metadata": {},
   "outputs": [
    {
     "data": {
      "text/plain": [
       "[2, 3, 5, 7, 11, 13, 17, 19]"
      ]
     },
     "execution_count": 8,
     "metadata": {},
     "output_type": "execute_result"
    }
   ],
   "source": [
    "prime4(20)"
   ]
  },
  {
   "cell_type": "code",
   "execution_count": 9,
   "id": "0ee94b33",
   "metadata": {},
   "outputs": [],
   "source": [
    "import time\n",
    "def test_runtime(n):\n",
    "    start_time = time.time()\n",
    "    prime1(n)\n",
    "    print(\"--- prime1(n) %s seconds ---\" % (time.time() - start_time))\n",
    "\n",
    "    start_time = time.time()\n",
    "    prime2(n)\n",
    "    print(\"--- prime2(n) %s seconds ---\" % (time.time() - start_time))\n",
    "\n",
    "    start_time = time.time()\n",
    "    prime3(n)\n",
    "    print(\"--- prime3(n) %s seconds ---\" % (time.time() - start_time))\n",
    "    \n",
    "    start_time = time.time()\n",
    "    prime4(n)\n",
    "    print(\"--- prime4(n) %s seconds ---\" % (time.time() - start_time))"
   ]
  },
  {
   "cell_type": "code",
   "execution_count": 10,
   "id": "7f4feae8",
   "metadata": {},
   "outputs": [
    {
     "name": "stdout",
     "output_type": "stream",
     "text": [
      "--- prime1(n) 0.002498626708984375 seconds ---\n",
      "--- prime2(n) 0.0035004615783691406 seconds ---\n",
      "--- prime3(n) 0.0009996891021728516 seconds ---\n",
      "--- prime4(n) 0.0 seconds ---\n"
     ]
    }
   ],
   "source": [
    "test_runtime(1000)"
   ]
  },
  {
   "cell_type": "markdown",
   "id": "cbc29ac2",
   "metadata": {},
   "source": [
    "# Pi Constructor"
   ]
  },
  {
   "cell_type": "code",
   "execution_count": 11,
   "id": "88e287c2",
   "metadata": {},
   "outputs": [],
   "source": [
    "#Leibniz's formula : pi/4 = 1 - 1/3 + 1/5 - 1/7 +1/9 ......\n",
    "# pi  = 4 sum[(-1)^k * (1/(2k+1))]\n",
    "\n",
    "def pi(k):\n",
    "    v=0\n",
    "    for i in range(0,k):\n",
    "        coeff = (-1)**i\n",
    "        v += coeff * 4/(2*i+1)\n",
    "    return v"
   ]
  },
  {
   "cell_type": "code",
   "execution_count": 12,
   "id": "49b5deca",
   "metadata": {},
   "outputs": [
    {
     "data": {
      "text/plain": [
       "3.1410926536210413"
      ]
     },
     "execution_count": 12,
     "metadata": {},
     "output_type": "execute_result"
    }
   ],
   "source": [
    "pi(2000)"
   ]
  },
  {
   "cell_type": "markdown",
   "id": "f8107427",
   "metadata": {},
   "source": [
    "# Binary Search in Matrix"
   ]
  },
  {
   "cell_type": "markdown",
   "id": "81a70ae3",
   "metadata": {},
   "source": [
    "**Problem**: Given a matrix that is organized such that the numbers will always be sorted left to right, and the 1st number of each will always be > than last element of the previous row. Search for a specific value in the matrix and retun whether it exist."
   ]
  },
  {
   "cell_type": "markdown",
   "id": "92b113b2",
   "metadata": {},
   "source": [
    "**Idea**: Think of the matrix as an sorted array where the rows are concatenated into a single line. Finding element in an array takes O(n). Using BS will reduce it to O(Log N). The key trick of this problem is to find a way that translates matrix position[i,j] into array[x]"
   ]
  },
  {
   "cell_type": "code",
   "execution_count": 13,
   "id": "04ca4744",
   "metadata": {},
   "outputs": [],
   "source": [
    "def searchMatrix(mat,val):\n",
    "    #Base case\n",
    "    if len(mat)==0:\n",
    "        return False\n",
    "    \n",
    "    #Initialize\n",
    "    row_len = len(mat)\n",
    "    col_len = len(mat[0])\n",
    "    \n",
    "    #Search\n",
    "    low = 0\n",
    "    high = row_len * col_len\n",
    "    while low<high:\n",
    "        mid = (low + high)//2\n",
    "        if mat[mid//col_len][mid % col_len]==val:\n",
    "            return True\n",
    "        elif mat[mid//col_len][mid % col_len]<val:\n",
    "            low = mid +1\n",
    "        else: \n",
    "            high=mid\n",
    "    return False"
   ]
  },
  {
   "cell_type": "code",
   "execution_count": 14,
   "id": "30f286c7",
   "metadata": {},
   "outputs": [
    {
     "name": "stdout",
     "output_type": "stream",
     "text": [
      "True\n",
      "False\n"
     ]
    }
   ],
   "source": [
    "mat=[\n",
    "    [1,2,3,4],\n",
    "    [5,6,7,8],\n",
    "    [9,10,11,12],\n",
    "]\n",
    "\n",
    "print(searchMatrix(mat,4))\n",
    "print(searchMatrix(mat,13))"
   ]
  }
 ],
 "metadata": {
  "kernelspec": {
   "display_name": "Python 3 (ipykernel)",
   "language": "python",
   "name": "python3"
  },
  "language_info": {
   "codemirror_mode": {
    "name": "ipython",
    "version": 3
   },
   "file_extension": ".py",
   "mimetype": "text/x-python",
   "name": "python",
   "nbconvert_exporter": "python",
   "pygments_lexer": "ipython3",
   "version": "3.9.7"
  }
 },
 "nbformat": 4,
 "nbformat_minor": 5
}
